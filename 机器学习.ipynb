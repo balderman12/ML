{
  "nbformat": 4,
  "nbformat_minor": 0,
  "metadata": {
    "colab": {
      "provenance": [],
      "toc_visible": true,
      "authorship_tag": "ABX9TyMaFmoIByvrYhZcNah62Yjt",
      "include_colab_link": true
    },
    "kernelspec": {
      "name": "python3",
      "display_name": "Python 3"
    },
    "language_info": {
      "name": "python"
    }
  },
  "cells": [
    {
      "cell_type": "markdown",
      "metadata": {
        "id": "view-in-github",
        "colab_type": "text"
      },
      "source": [
        "<a href=\"https://colab.research.google.com/github/balderman12/ML/blob/main/%E6%9C%BA%E5%99%A8%E5%AD%A6%E4%B9%A0.ipynb\" target=\"_parent\"><img src=\"https://colab.research.google.com/assets/colab-badge.svg\" alt=\"Open In Colab\"/></a>"
      ]
    },
    {
      "cell_type": "markdown",
      "source": [],
      "metadata": {
        "id": "QLKopjnzrHpu"
      }
    },
    {
      "cell_type": "markdown",
      "source": [
        "# 数据操作与数据预处理"
      ],
      "metadata": {
        "id": "y4y-zeKMrJ8P"
      }
    },
    {
      "cell_type": "markdown",
      "source": [
        "## 数据操作"
      ],
      "metadata": {
        "id": "Yzk7NbNerWHQ"
      }
    },
    {
      "cell_type": "code",
      "execution_count": null,
      "metadata": {
        "colab": {
          "base_uri": "https://localhost:8080/"
        },
        "id": "j-fE57bPizSl",
        "outputId": "89757af3-a190-4be7-c6f1-531d8fce13c3"
      },
      "outputs": [
        {
          "output_type": "execute_result",
          "data": {
            "text/plain": [
              "tensor([ 0,  1,  2,  3,  4,  5,  6,  7,  8,  9, 10, 11])"
            ]
          },
          "metadata": {},
          "execution_count": 2
        }
      ],
      "source": [
        "import torch # 导入pytorch\n",
        "x = torch.arange(12)\n",
        "x"
      ]
    },
    {
      "cell_type": "code",
      "source": [
        "x.shape # x的属性,返回一个向量"
      ],
      "metadata": {
        "colab": {
          "base_uri": "https://localhost:8080/"
        },
        "id": "mCGmM3PCjPpq",
        "outputId": "d8f5c1ae-d39d-4fed-f1b2-57f3d7451f5a"
      },
      "execution_count": null,
      "outputs": [
        {
          "output_type": "execute_result",
          "data": {
            "text/plain": [
              "torch.Size([12])"
            ]
          },
          "metadata": {},
          "execution_count": 3
        }
      ]
    },
    {
      "cell_type": "code",
      "source": [
        "x.numel() # 返回x的元素个数"
      ],
      "metadata": {
        "colab": {
          "base_uri": "https://localhost:8080/"
        },
        "id": "aZsiVZlzjV1B",
        "outputId": "ac4fa78c-34ae-43cb-8fc1-ab4046b8bca0"
      },
      "execution_count": null,
      "outputs": [
        {
          "output_type": "execute_result",
          "data": {
            "text/plain": [
              "12"
            ]
          },
          "metadata": {},
          "execution_count": 5
        }
      ]
    },
    {
      "cell_type": "code",
      "source": [
        "torch.zeros((2, 3, 4)) # 创建一个全零矩阵\n"
      ],
      "metadata": {
        "colab": {
          "base_uri": "https://localhost:8080/"
        },
        "id": "dj7Gk6_Ijsix",
        "outputId": "a508709e-9e39-4e7a-e5ff-c63d9da3e77f"
      },
      "execution_count": null,
      "outputs": [
        {
          "output_type": "execute_result",
          "data": {
            "text/plain": [
              "tensor([[[0., 0., 0., 0.],\n",
              "         [0., 0., 0., 0.],\n",
              "         [0., 0., 0., 0.]],\n",
              "\n",
              "        [[0., 0., 0., 0.],\n",
              "         [0., 0., 0., 0.],\n",
              "         [0., 0., 0., 0.]]])"
            ]
          },
          "metadata": {},
          "execution_count": 6
        }
      ]
    },
    {
      "cell_type": "code",
      "source": [
        "torch.ones((2, 3, 4))  # 创建一个全一矩阵"
      ],
      "metadata": {
        "colab": {
          "base_uri": "https://localhost:8080/"
        },
        "id": "WHsJke8Fj1DV",
        "outputId": "2ef3fdb7-9363-462b-f9b1-5e6349cbf225"
      },
      "execution_count": null,
      "outputs": [
        {
          "output_type": "execute_result",
          "data": {
            "text/plain": [
              "tensor([[[1., 1., 1., 1.],\n",
              "         [1., 1., 1., 1.],\n",
              "         [1., 1., 1., 1.]],\n",
              "\n",
              "        [[1., 1., 1., 1.],\n",
              "         [1., 1., 1., 1.],\n",
              "         [1., 1., 1., 1.]]])"
            ]
          },
          "metadata": {},
          "execution_count": 7
        }
      ]
    },
    {
      "cell_type": "code",
      "source": [
        "torch.tensor([[1.0, 2, 4, 8], [2.0, 5, 6, 8]])  # 手动创建一个二维数组"
      ],
      "metadata": {
        "colab": {
          "base_uri": "https://localhost:8080/"
        },
        "id": "yqxqxqQ1kETv",
        "outputId": "e346c764-c3e6-4fdb-f514-ea4a3dc3d74e"
      },
      "execution_count": null,
      "outputs": [
        {
          "output_type": "execute_result",
          "data": {
            "text/plain": [
              "tensor([[1., 2., 4., 8.],\n",
              "        [2., 5., 6., 8.]])"
            ]
          },
          "metadata": {},
          "execution_count": 10
        }
      ]
    },
    {
      "cell_type": "markdown",
      "source": [
        "常见的标准算数运算符(+,-,\\*,/和 \\*\\*)都可以被升级为按元素运算"
      ],
      "metadata": {
        "id": "lRy7FOTEkoeO"
      }
    },
    {
      "cell_type": "code",
      "source": [
        "x=torch.tensor([1.0, 2, 4, 8])\n",
        "y=torch.tensor([2, 2, 2, 2])\n",
        "x+y,x-y,x*y,x/y,x**y"
      ],
      "metadata": {
        "colab": {
          "base_uri": "https://localhost:8080/"
        },
        "id": "nl1ybTcsk-zF",
        "outputId": "538caa46-f744-4263-a67e-891be9369f00"
      },
      "execution_count": null,
      "outputs": [
        {
          "output_type": "execute_result",
          "data": {
            "text/plain": [
              "(tensor([ 3.,  4.,  6., 10.]),\n",
              " tensor([-1.,  0.,  2.,  6.]),\n",
              " tensor([ 2.,  4.,  8., 16.]),\n",
              " tensor([0.5000, 1.0000, 2.0000, 4.0000]),\n",
              " tensor([ 1.,  4., 16., 64.]))"
            ]
          },
          "metadata": {},
          "execution_count": 11
        }
      ]
    },
    {
      "cell_type": "code",
      "source": [
        "torch.exp(x) # 做指数运算"
      ],
      "metadata": {
        "colab": {
          "base_uri": "https://localhost:8080/"
        },
        "id": "w90PFgy9ljDY",
        "outputId": "a85faf33-b3d7-4912-af6d-77dc0a04659d"
      },
      "execution_count": null,
      "outputs": [
        {
          "output_type": "execute_result",
          "data": {
            "text/plain": [
              "tensor([2.7183e+00, 7.3891e+00, 5.4598e+01, 2.9810e+03])"
            ]
          },
          "metadata": {},
          "execution_count": 12
        }
      ]
    },
    {
      "cell_type": "code",
      "source": [
        "x=torch.arange(12,dtype=torch.float32).reshape((3,4))\n",
        "y=torch.tensor([[2.0, 2, 5, 6],[1, 2, 3, 4], [5, 6, 7, 8]])\n",
        "torch.cat((x,y),dim=0), torch.cat((x,y),dim=1)"
      ],
      "metadata": {
        "colab": {
          "base_uri": "https://localhost:8080/"
        },
        "id": "NP1i2KXwmINF",
        "outputId": "8bc9875b-cdc4-4d63-d2a2-9ad44b9710e9"
      },
      "execution_count": null,
      "outputs": [
        {
          "output_type": "execute_result",
          "data": {
            "text/plain": [
              "(tensor([[ 0.,  1.,  2.,  3.],\n",
              "         [ 4.,  5.,  6.,  7.],\n",
              "         [ 8.,  9., 10., 11.],\n",
              "         [ 2.,  2.,  5.,  6.],\n",
              "         [ 1.,  2.,  3.,  4.],\n",
              "         [ 5.,  6.,  7.,  8.]]),\n",
              " tensor([[ 0.,  1.,  2.,  3.,  2.,  2.,  5.,  6.],\n",
              "         [ 4.,  5.,  6.,  7.,  1.,  2.,  3.,  4.],\n",
              "         [ 8.,  9., 10., 11.,  5.,  6.,  7.,  8.]]))"
            ]
          },
          "metadata": {},
          "execution_count": 14
        }
      ]
    },
    {
      "cell_type": "markdown",
      "source": [
        "通过逻辑运算符构建二元张量"
      ],
      "metadata": {
        "id": "mt3c9fwxmyMO"
      }
    },
    {
      "cell_type": "code",
      "source": [
        "x == y"
      ],
      "metadata": {
        "colab": {
          "base_uri": "https://localhost:8080/"
        },
        "id": "9FO6iaTAm6LX",
        "outputId": "5e523812-c849-4371-8eca-e3b0113343df"
      },
      "execution_count": null,
      "outputs": [
        {
          "output_type": "execute_result",
          "data": {
            "text/plain": [
              "tensor([[False, False, False, False],\n",
              "        [False, False, False, False],\n",
              "        [False, False, False, False]])"
            ]
          },
          "metadata": {},
          "execution_count": 15
        }
      ]
    },
    {
      "cell_type": "markdown",
      "source": [
        "即使两个张量形状不同，我们仍可以通过调用*广播机制（broadcasting mechanism）*来执行按元素操作。注意这个机制可能导致一些奇怪的问题。"
      ],
      "metadata": {
        "id": "7JWFevYfnlu1"
      }
    },
    {
      "cell_type": "code",
      "source": [
        "a=torch.arange(3).reshape((3,1))\n",
        "b=torch.arange(2).reshape((1,2))\n",
        "a+b"
      ],
      "metadata": {
        "colab": {
          "base_uri": "https://localhost:8080/"
        },
        "id": "b9QWutIWoJrh",
        "outputId": "af8701e3-d995-4155-e058-75a7f7a7d807"
      },
      "execution_count": null,
      "outputs": [
        {
          "output_type": "execute_result",
          "data": {
            "text/plain": [
              "tensor([[0, 1],\n",
              "        [1, 2],\n",
              "        [2, 3]])"
            ]
          },
          "metadata": {},
          "execution_count": 18
        }
      ]
    },
    {
      "cell_type": "code",
      "source": [
        "x"
      ],
      "metadata": {
        "colab": {
          "base_uri": "https://localhost:8080/"
        },
        "id": "x8ZogYkrpqit",
        "outputId": "006ee62d-4e9b-4320-b341-d5194cacf53a"
      },
      "execution_count": null,
      "outputs": [
        {
          "output_type": "execute_result",
          "data": {
            "text/plain": [
              "tensor([[ 0.,  1.,  2.,  3.],\n",
              "        [ 4.,  5.,  6.,  7.],\n",
              "        [ 8.,  9., 10., 11.]])"
            ]
          },
          "metadata": {},
          "execution_count": 19
        }
      ]
    },
    {
      "cell_type": "code",
      "source": [
        "x[-1] # 最后一行\n",
        "x[1:3] # 第二行到第三行，左开右闭"
      ],
      "metadata": {
        "colab": {
          "base_uri": "https://localhost:8080/"
        },
        "id": "WcQE_Hyspwvl",
        "outputId": "dac4637f-5339-4326-f5ce-f03dd35accd9"
      },
      "execution_count": null,
      "outputs": [
        {
          "output_type": "execute_result",
          "data": {
            "text/plain": [
              "(tensor([ 8.,  9., 10., 11.]),\n",
              " tensor([[ 4.,  5.,  6.,  7.],\n",
              "         [ 8.,  9., 10., 11.]]))"
            ]
          },
          "metadata": {},
          "execution_count": 20
        }
      ]
    },
    {
      "cell_type": "markdown",
      "source": [
        "按元素赋值，按区域赋值"
      ],
      "metadata": {
        "id": "hEafF6MOsQ4V"
      }
    },
    {
      "cell_type": "code",
      "source": [
        "x[1,2]=9\n",
        "x"
      ],
      "metadata": {
        "colab": {
          "base_uri": "https://localhost:8080/"
        },
        "id": "S-oamvPIr6Vu",
        "outputId": "6aad21b7-b056-47c9-ae92-d0f9ac798ea7"
      },
      "execution_count": null,
      "outputs": [
        {
          "output_type": "execute_result",
          "data": {
            "text/plain": [
              "tensor([[ 0.,  1.,  2.,  3.],\n",
              "        [ 4.,  5.,  9.,  7.],\n",
              "        [ 8.,  9., 10., 11.]])"
            ]
          },
          "metadata": {},
          "execution_count": 22
        }
      ]
    },
    {
      "cell_type": "code",
      "source": [
        "x[0:2]=12\n",
        "x"
      ],
      "metadata": {
        "colab": {
          "base_uri": "https://localhost:8080/"
        },
        "id": "C8aPBQQXsGvs",
        "outputId": "2ad344b0-3602-4b12-a043-85bf10f6cfac"
      },
      "execution_count": null,
      "outputs": [
        {
          "output_type": "execute_result",
          "data": {
            "text/plain": [
              "tensor([[12., 12., 12., 12.],\n",
              "        [12., 12., 12., 12.],\n",
              "        [ 8.,  9., 10., 11.]])"
            ]
          },
          "metadata": {},
          "execution_count": 23
        }
      ]
    },
    {
      "cell_type": "markdown",
      "source": [
        "运行一些操作可能会导致为新结果分配内存，这不利于处理大数据"
      ],
      "metadata": {
        "id": "6WlsI5xHswSS"
      }
    },
    {
      "cell_type": "code",
      "source": [
        "before = id(y)\n",
        "y=y+x\n",
        "id(y)==before"
      ],
      "metadata": {
        "colab": {
          "base_uri": "https://localhost:8080/"
        },
        "id": "6GYg7Stvs1WH",
        "outputId": "8ce3d3d5-99ac-43fd-cd7b-6a3cd29b8e48"
      },
      "execution_count": null,
      "outputs": [
        {
          "output_type": "execute_result",
          "data": {
            "text/plain": [
              "False"
            ]
          },
          "metadata": {},
          "execution_count": 24
        }
      ]
    },
    {
      "cell_type": "markdown",
      "source": [
        "**执行原地操作**"
      ],
      "metadata": {
        "id": "XbLktt7DtBcq"
      }
    },
    {
      "cell_type": "code",
      "source": [
        "z=torch.zeros_like(y) #创建一个和y大小相同的张量z\n",
        "z"
      ],
      "metadata": {
        "colab": {
          "base_uri": "https://localhost:8080/"
        },
        "id": "38sdDeDutHHW",
        "outputId": "f3195b15-4007-4513-b1fb-7345eeeed8d0"
      },
      "execution_count": null,
      "outputs": [
        {
          "output_type": "execute_result",
          "data": {
            "text/plain": [
              "tensor([[0., 0., 0., 0.],\n",
              "        [0., 0., 0., 0.],\n",
              "        [0., 0., 0., 0.]])"
            ]
          },
          "metadata": {},
          "execution_count": 25
        }
      ]
    },
    {
      "cell_type": "code",
      "source": [
        "print('id(z):',id(z))\n",
        "z[:]=x+y  # 原地操作就相当远对z元素的每个元素进行操作\n",
        "print('id(z):',id(z))\n"
      ],
      "metadata": {
        "colab": {
          "base_uri": "https://localhost:8080/"
        },
        "id": "icM0tdpxtWNl",
        "outputId": "7fad516c-330f-4eeb-fbba-5eaa2750bf57"
      },
      "execution_count": null,
      "outputs": [
        {
          "output_type": "stream",
          "name": "stdout",
          "text": [
            "id(z): 140010864292096\n",
            "id(z): 140010864292096\n"
          ]
        }
      ]
    },
    {
      "cell_type": "markdown",
      "source": [
        "如果后续计算没有重复使用x，我们也可以使用x[:]=x+y，或者x+=y来减少操作的内存开销。"
      ],
      "metadata": {
        "id": "a0KwggmvuDKY"
      }
    },
    {
      "cell_type": "code",
      "source": [
        "before = id(x)\n",
        "x+=y\n",
        "id(x)==before"
      ],
      "metadata": {
        "colab": {
          "base_uri": "https://localhost:8080/"
        },
        "id": "6KoJ--HyuRIV",
        "outputId": "578a0470-f230-4130-8f4e-2a9a2ade41a5"
      },
      "execution_count": null,
      "outputs": [
        {
          "output_type": "execute_result",
          "data": {
            "text/plain": [
              "True"
            ]
          },
          "metadata": {},
          "execution_count": 28
        }
      ]
    },
    {
      "cell_type": "markdown",
      "source": [
        "在深度学习中最常见的不是pytorch和tensorflow，而是numpy"
      ],
      "metadata": {
        "id": "vbJjiThwuw4i"
      }
    },
    {
      "cell_type": "code",
      "source": [
        "A=x.numpy()  # 将x转为numpy数据类型\n",
        "B=torch.tensor(A) # 将numpy类型数据转为pytorch\n",
        "type(A),type(B)"
      ],
      "metadata": {
        "colab": {
          "base_uri": "https://localhost:8080/"
        },
        "id": "ghfT8Vo2vD5l",
        "outputId": "b39d70aa-049b-4ab1-bdea-9300481b7d01"
      },
      "execution_count": null,
      "outputs": [
        {
          "output_type": "execute_result",
          "data": {
            "text/plain": [
              "(numpy.ndarray, torch.Tensor)"
            ]
          },
          "metadata": {},
          "execution_count": 30
        }
      ]
    },
    {
      "cell_type": "markdown",
      "source": [
        "将大小为1的张量转为python标量"
      ],
      "metadata": {
        "id": "mKedoxcLvlMn"
      }
    },
    {
      "cell_type": "code",
      "source": [
        "a=torch.tensor([3.5])\n",
        "a,a.item(),float(a),int(a)"
      ],
      "metadata": {
        "colab": {
          "base_uri": "https://localhost:8080/"
        },
        "id": "fdQAf3JVvdso",
        "outputId": "c6fe12af-901e-447f-b510-2ba8f0c58713"
      },
      "execution_count": null,
      "outputs": [
        {
          "output_type": "execute_result",
          "data": {
            "text/plain": [
              "(tensor([3.5000]), 3.5, 3.5, 3)"
            ]
          },
          "metadata": {},
          "execution_count": 32
        }
      ]
    },
    {
      "cell_type": "markdown",
      "source": [
        "## 数据预处理"
      ],
      "metadata": {
        "id": "b8M4j850vV3T"
      }
    }
  ]
}